{
 "cells": [
  {
   "cell_type": "markdown",
   "id": "543a81bd",
   "metadata": {},
   "source": [
    "For cleaner viewing, the Python code inputs has been hidden. Please use the button below to show/hide the raw Python code."
   ]
  },
  {
   "cell_type": "code",
   "execution_count": 1,
   "id": "fae1d096",
   "metadata": {
    "scrolled": true
   },
   "outputs": [
    {
     "data": {
      "text/html": [
       "<script>\n",
       "code_show=true; \n",
       "function code_toggle() {\n",
       " if (code_show){\n",
       " $('div.input').hide();\n",
       " } else {\n",
       " $('div.input').show();\n",
       " }\n",
       " code_show = !code_show\n",
       "} \n",
       "$( document ).ready(code_toggle);\n",
       "</script>\n",
       "<form action=\"javascript:code_toggle()\"><input type=\"submit\" value=\"Show/Hide Raw Code\"></form>"
      ],
      "text/plain": [
       "<IPython.core.display.HTML object>"
      ]
     },
     "execution_count": 1,
     "metadata": {},
     "output_type": "execute_result"
    }
   ],
   "source": [
    "from IPython.display import HTML\n",
    "\n",
    "HTML('''<script>\n",
    "code_show=true; \n",
    "function code_toggle() {\n",
    " if (code_show){\n",
    " $('div.input').hide();\n",
    " } else {\n",
    " $('div.input').show();\n",
    " }\n",
    " code_show = !code_show\n",
    "} \n",
    "$( document ).ready(code_toggle);\n",
    "</script>\n",
    "<form action=\"javascript:code_toggle()\"><input type=\"submit\" value=\"Show/Hide Raw Code\"></form>''')"
   ]
  },
  {
   "cell_type": "markdown",
   "id": "d8a5135f",
   "metadata": {},
   "source": [
    "# Casey Masamitsu Final Project\n",
    "# Unleashing Open Data With Python | Fall 2021"
   ]
  },
  {
   "cell_type": "markdown",
   "id": "8dc2f90d",
   "metadata": {},
   "source": [
    "## Part 1: Background Information"
   ]
  },
  {
   "cell_type": "markdown",
   "id": "2e80cc66",
   "metadata": {},
   "source": [
    "### **1.\t(1 points) State the research question: What is the relationship between _____ and _______?**"
   ]
  },
  {
   "cell_type": "markdown",
   "id": "b73f62a7",
   "metadata": {},
   "source": [
    "What is the relationship between United States residents' willingness to participate in the United States Census and their political party affiliation?"
   ]
  },
  {
   "cell_type": "markdown",
   "id": "4250aefe",
   "metadata": {},
   "source": [
    "### **2.\t(1 points) Write a short paragraph that provides some context for the research question.  Why is this an interesting relationship to study? Why do you expect there to be a relationship?**"
   ]
  },
  {
   "cell_type": "markdown",
   "id": "4cd172bd",
   "metadata": {},
   "source": [
    "The United States Census determines how many voters reside in the United States and subsequently informs how many electors and representatives each state is allotted. In addition, census data is publically available and commonly used in academic research. It is of the utmost importance to understand current attitudes about the Census for these reasons. The government and private sector alike can target specific groups of people with education campaigns once individuals unlikely to participate in the Census are identified. In doing so, true representation will improve.  "
   ]
  },
  {
   "cell_type": "markdown",
   "id": "ac3f7d29",
   "metadata": {},
   "source": [
    "### **3.\t(1 points) Cite the dataset you’ll be using:**"
   ]
  },
  {
   "cell_type": "markdown",
   "id": "59c75b36",
   "metadata": {},
   "source": [
    "PewResearch Center. (2020, January). January 2020 Census Survey. Pew Research Center. https://www.pewresearch.org/social-trends/dataset/2020-census-survey-1/"
   ]
  },
  {
   "cell_type": "markdown",
   "id": "dbe5925a",
   "metadata": {},
   "source": [
    "### **4.\t(1 points) Complete Table 1.  Only include those variables you’ll be using in your analysis.**"
   ]
  },
  {
   "cell_type": "markdown",
   "id": "7b15254c",
   "metadata": {},
   "source": [
    "| Variable | Definition |\n",
    "| :--- | :--- |\n",
    "| partic | How likely the respondent is to participate in the US Census |\n",
    "|| &nbsp;&nbsp;&nbsp;&nbsp;&nbsp;&nbsp;1 Definitely will participate\n",
    "|| &nbsp;&nbsp;&nbsp;&nbsp;&nbsp;&nbsp;2 Probably will participate\n",
    "|| &nbsp;&nbsp;&nbsp;&nbsp;&nbsp;&nbsp;3 Might or might not participate\n",
    "|| &nbsp;&nbsp;&nbsp;&nbsp;&nbsp;&nbsp;4 Probably will not participate\n",
    "|| &nbsp;&nbsp;&nbsp;&nbsp;&nbsp;&nbsp;5 Definitely will not participate\n",
    "|| &nbsp;&nbsp;&nbsp;&nbsp;&nbsp;&nbsp;6 Refused\n",
    "| party | The respondent’s political party\n",
    "|| &nbsp;&nbsp;&nbsp;&nbsp;&nbsp;&nbsp;1 Republican \n",
    "|| &nbsp;&nbsp;&nbsp;&nbsp;&nbsp;&nbsp;2 Democrat \n",
    "|| &nbsp;&nbsp;&nbsp;&nbsp;&nbsp;&nbsp;3 Independent \n",
    "|| &nbsp;&nbsp;&nbsp;&nbsp;&nbsp;&nbsp;4 Something else\n",
    "|| &nbsp;&nbsp;&nbsp;&nbsp;&nbsp;&nbsp;5 Refused|\n",
    "| import_us | How important respondent believes census is for the United States:\n",
    "|| &nbsp;&nbsp;&nbsp;&nbsp;&nbsp;&nbsp;1 Very important \n",
    "|| &nbsp;&nbsp;&nbsp;&nbsp;&nbsp;&nbsp;2 Somewhat important \n",
    "|| &nbsp;&nbsp;&nbsp;&nbsp;&nbsp;&nbsp;3 Not too important \n",
    "|| &nbsp;&nbsp;&nbsp;&nbsp;&nbsp;&nbsp;4 Not at all important\n",
    "|| &nbsp;&nbsp;&nbsp;&nbsp;&nbsp;&nbsp;5 Refused\n",
    "| import_you | Does the respondent think responding to the census would…\n",
    "|| &nbsp;&nbsp;&nbsp;&nbsp;&nbsp;&nbsp;1 Benefit them personally \n",
    "|| &nbsp;&nbsp;&nbsp;&nbsp;&nbsp;&nbsp;2 Harm them personally \n",
    "|| &nbsp;&nbsp;&nbsp;&nbsp;&nbsp;&nbsp;3 Neither benefit nor harm them\n",
    "|| &nbsp;&nbsp;&nbsp;&nbsp;&nbsp;&nbsp;4 Refused\n",
    "| import_comm | Does the respondent think responding to the census would…\n",
    "|| &nbsp;&nbsp;&nbsp;&nbsp;&nbsp;&nbsp;1 Benefit their community \n",
    "|| &nbsp;&nbsp;&nbsp;&nbsp;&nbsp;&nbsp;2 Harm their community\n",
    "|| &nbsp;&nbsp;&nbsp;&nbsp;&nbsp;&nbsp;3 Neither benefit nor harm their community\n",
    "|| &nbsp;&nbsp;&nbsp;&nbsp;&nbsp;&nbsp;4 Refused\n"
   ]
  },
  {
   "cell_type": "markdown",
   "id": "f441a5f3",
   "metadata": {},
   "source": [
    "## Part 2: Descriptive Information"
   ]
  },
  {
   "cell_type": "markdown",
   "id": "e1b020a5",
   "metadata": {},
   "source": [
    "### **5.\t(2 points) Complete the table of summary statistics.  Add or delete rows as necessary.**"
   ]
  },
  {
   "cell_type": "markdown",
   "id": "4482e0f6",
   "metadata": {},
   "source": [
    "Below you will first see Python outputs for the describe() and value_counts() functions. Using this information, summary statistics tables were created further below. "
   ]
  },
  {
   "cell_type": "code",
   "execution_count": 136,
   "id": "0de9861f",
   "metadata": {
    "scrolled": true
   },
   "outputs": [
    {
     "data": {
      "text/html": [
       "<div>\n",
       "<style scoped>\n",
       "    .dataframe tbody tr th:only-of-type {\n",
       "        vertical-align: middle;\n",
       "    }\n",
       "\n",
       "    .dataframe tbody tr th {\n",
       "        vertical-align: top;\n",
       "    }\n",
       "\n",
       "    .dataframe thead th {\n",
       "        text-align: right;\n",
       "    }\n",
       "</style>\n",
       "<table border=\"1\" class=\"dataframe\">\n",
       "  <thead>\n",
       "    <tr style=\"text-align: right;\">\n",
       "      <th></th>\n",
       "      <th>partic</th>\n",
       "      <th>import_us</th>\n",
       "      <th>import_you</th>\n",
       "      <th>import_comm</th>\n",
       "    </tr>\n",
       "  </thead>\n",
       "  <tbody>\n",
       "    <tr>\n",
       "      <th>count</th>\n",
       "      <td>3535.000000</td>\n",
       "      <td>3535.000000</td>\n",
       "      <td>3535.000000</td>\n",
       "      <td>3535.000000</td>\n",
       "    </tr>\n",
       "    <tr>\n",
       "      <th>mean</th>\n",
       "      <td>1.599151</td>\n",
       "      <td>1.355587</td>\n",
       "      <td>2.450636</td>\n",
       "      <td>1.644979</td>\n",
       "    </tr>\n",
       "    <tr>\n",
       "      <th>std</th>\n",
       "      <td>0.976086</td>\n",
       "      <td>0.681643</td>\n",
       "      <td>0.899150</td>\n",
       "      <td>0.937710</td>\n",
       "    </tr>\n",
       "    <tr>\n",
       "      <th>min</th>\n",
       "      <td>1.000000</td>\n",
       "      <td>1.000000</td>\n",
       "      <td>1.000000</td>\n",
       "      <td>1.000000</td>\n",
       "    </tr>\n",
       "    <tr>\n",
       "      <th>25%</th>\n",
       "      <td>1.000000</td>\n",
       "      <td>1.000000</td>\n",
       "      <td>1.000000</td>\n",
       "      <td>1.000000</td>\n",
       "    </tr>\n",
       "    <tr>\n",
       "      <th>50%</th>\n",
       "      <td>1.000000</td>\n",
       "      <td>1.000000</td>\n",
       "      <td>3.000000</td>\n",
       "      <td>1.000000</td>\n",
       "    </tr>\n",
       "    <tr>\n",
       "      <th>75%</th>\n",
       "      <td>2.000000</td>\n",
       "      <td>2.000000</td>\n",
       "      <td>3.000000</td>\n",
       "      <td>3.000000</td>\n",
       "    </tr>\n",
       "    <tr>\n",
       "      <th>max</th>\n",
       "      <td>6.000000</td>\n",
       "      <td>5.000000</td>\n",
       "      <td>4.000000</td>\n",
       "      <td>4.000000</td>\n",
       "    </tr>\n",
       "  </tbody>\n",
       "</table>\n",
       "</div>"
      ],
      "text/plain": [
       "            partic    import_us   import_you  import_comm\n",
       "count  3535.000000  3535.000000  3535.000000  3535.000000\n",
       "mean      1.599151     1.355587     2.450636     1.644979\n",
       "std       0.976086     0.681643     0.899150     0.937710\n",
       "min       1.000000     1.000000     1.000000     1.000000\n",
       "25%       1.000000     1.000000     1.000000     1.000000\n",
       "50%       1.000000     1.000000     3.000000     1.000000\n",
       "75%       2.000000     2.000000     3.000000     3.000000\n",
       "max       6.000000     5.000000     4.000000     4.000000"
      ]
     },
     "execution_count": 136,
     "metadata": {},
     "output_type": "execute_result"
    }
   ],
   "source": [
    "# Describe categorical variables with implicit order\n",
    "pew[[\"partic\", \"import_us\", \"import_you\", \"import_comm\"]].describe()"
   ]
  },
  {
   "cell_type": "code",
   "execution_count": 137,
   "id": "e5f95928",
   "metadata": {},
   "outputs": [
    {
     "data": {
      "text/plain": [
       "party\n",
       "2        1267\n",
       "1         970\n",
       "3         895\n",
       "4         330\n",
       "5          73\n",
       "dtype: int64"
      ]
     },
     "execution_count": 137,
     "metadata": {},
     "output_type": "execute_result"
    }
   ],
   "source": [
    "# Counts of party variable\n",
    "pew[[\"party\"]].value_counts()"
   ]
  },
  {
   "cell_type": "code",
   "execution_count": 138,
   "id": "56aa1ec9",
   "metadata": {},
   "outputs": [
    {
     "data": {
      "text/plain": [
       "party\n",
       "2        0.358416\n",
       "1        0.274399\n",
       "3        0.253182\n",
       "4        0.093352\n",
       "5        0.020651\n",
       "dtype: float64"
      ]
     },
     "execution_count": 138,
     "metadata": {},
     "output_type": "execute_result"
    }
   ],
   "source": [
    "# Proportions of party variable\n",
    "pew[[\"party\"]].value_counts(normalize = True)"
   ]
  },
  {
   "cell_type": "markdown",
   "id": "2ea135a3",
   "metadata": {},
   "source": [
    "*For these four variables, generally, the higher the value, the greater lack of interest and regard for the US census.*\n",
    "\n",
    "| Variable | Minimum | Maximum | Mean | Standard Deviation | *N* |\n",
    "| :--- | :--- | :--- | :--- | :--- | :--- |\n",
    "| partic | 1 | 6 | 1.59 | 0.98 | 3,535 |\n",
    "| import_us | 1 | 5 | 1.36 | 0.68 | 3,535 |\n",
    "| import_you | 1 | 4 | 2.45 | 0.89 | 3,535 |\n",
    "| import_comm | 1 | 4 | 1.64 | 0.94 | 3,535 |\n",
    "\n",
    "| Variable | Republican | Democratic | Independent | Something else | Refused | *N* |\n",
    "| :--- | :--- | :--- | :--- | :--- | :--- | :--- |\n",
    "| | # (%) | # (%) | # (%) | # (%) | # (%) |\n",
    "| party* | 970 (27.44) | 1267 (35.84) | 895 (25.31) | 330 (9.93) | 73 (2.07) | 3,535 |\n",
    "\n",
    "** During regression analysis, \"party\" was subset to only democratic (1) or not (0).*"
   ]
  },
  {
   "cell_type": "markdown",
   "id": "cdec4d9e",
   "metadata": {},
   "source": [
    "### **6.\t(2 points) Create one visualization of the dependent variable (e.g. bar graph, line graph, boxplot, histogram).  Be sure the visualization includes all the critical components, including a title, meaningful axes labels and any other useful labels.**"
   ]
  },
  {
   "cell_type": "code",
   "execution_count": 123,
   "id": "29a0b19e",
   "metadata": {},
   "outputs": [
    {
     "data": {
      "image/png": "[encoded data removed]",
      "text/plain": [
       "<Figure size 720x504 with 1 Axes>"
      ]
     },
     "metadata": {
      "needs_background": "light"
     },
     "output_type": "display_data"
    }
   ],
   "source": [
    "pew[[\"partic\"]].value_counts()\n",
    "respondents = [2253, 737, 364, 93, 66, 22]\n",
    "answers = [\"Definitely will participate\",\n",
    "          \"Probably will participate\",\n",
    "          \"Might or might not participate\",\n",
    "          \"Probably will not participate\",\n",
    "          \"Definitely will not participate\",\n",
    "          \"Refused\"]\n",
    "plt.figure(figsize = (10,7))\n",
    "plt.ylim([0,2499])\n",
    "plt.bar(answers, respondents, color = [\"mediumseagreen\", \"cornflowerblue\", \"khaki\", \"palevioletred\", \"mediumvioletred\", \"grey\"])\n",
    "plt.title(\"Over 15% of Respondents Question Participating in United States Census\", fontsize = 20)\n",
    "plt.ylabel(\"# of Respondents\")\n",
    "plt.xticks(rotation = 45, ha = \"right\", fontsize = 12)\n",
    "plt.text(-0.2, 2303, \"63.73%\", color = \"black\")\n",
    "plt.text(0.8, 787, \"20.85%\", color = \"black\")\n",
    "plt.text(1.8, 414, \"10.30%\", color = \"black\")\n",
    "plt.text(2.9, 143, \"2.63%\", color = \"black\")\n",
    "plt.text(3.9, 116, \"1.89%\", color = \"black\")\n",
    "plt.text(4.9, 72, \"0.60%\", color = \"black\")\n",
    "plt.show()\n"
   ]
  },
  {
   "cell_type": "markdown",
   "id": "d8cd0874",
   "metadata": {},
   "source": [
    "### **7.\t(1 points) Write a one-sentence summary of the visualization above.  What is something interesting about the variable that the visualization highlights?**"
   ]
  },
  {
   "cell_type": "markdown",
   "id": "3f9c50af",
   "metadata": {},
   "source": [
    "Over 15% of the survey respondents said they \"might\", \"might not\", \"probably will not\", or \"definitely will not\" participate in the US Census; this is a significant amount of people and signifies that improvements could and should be made. "
   ]
  },
  {
   "cell_type": "markdown",
   "id": "08d4da34",
   "metadata": {},
   "source": [
    "### **8.\t(2 points) Create one visualization of the independent variable of interest (e.g. bar graph, line graph, histogram).  Be sure the visualization includes all the critical components, including a title, meaningful axes labels and any other useful labels.  If you have more than one independent variable of interest, select one for this question.**"
   ]
  },
  {
   "cell_type": "code",
   "execution_count": 124,
   "id": "e8b2263f",
   "metadata": {},
   "outputs": [
    {
     "data": {
      "image/png": "[encoded data removed]",
      "text/plain": [
       "<Figure size 720x504 with 1 Axes>"
      ]
     },
     "metadata": {
      "needs_background": "light"
     },
     "output_type": "display_data"
    }
   ],
   "source": [
    "pew[[\"party\"]].value_counts()\n",
    "party_nums = [1267, 970, 895, 330, 73]\n",
    "party_resp = [\"Democrat\",\n",
    "          \"Republican\",\n",
    "          \"Independent\",\n",
    "          \"Something else\",\n",
    "          \"Refused\"]\n",
    "plt.figure(figsize = (10,7))\n",
    "plt.ylim([0,1400])\n",
    "plt.bar(party_resp, party_nums, color = [\"cornflowerblue\", \"palevioletred\", \"mediumseagreen\", \"khaki\", \"grey\"])\n",
    "plt.title(\"Party Affiliation of All Respondents\", fontsize = 20)\n",
    "plt.ylabel(\"# of Respondents\")\n",
    "plt.xticks(fontsize = 12)\n",
    "plt.text(-0.2, 1297, \"35.84%\", color = \"black\")\n",
    "plt.text(0.8, 1000, \"27.44%\", color = \"black\")\n",
    "plt.text(1.8, 925, \"25.31%\", color = \"black\")\n",
    "plt.text(2.9, 360, \"9.93%\", color = \"black\")\n",
    "plt.text(3.9, 103, \"2.07%\", color = \"black\")\n",
    "plt.show()"
   ]
  },
  {
   "cell_type": "markdown",
   "id": "098a98cd",
   "metadata": {},
   "source": [
    "### **9.\t(1 points) Write a one-sentence summary of the visualization above.  What is something interesting about the variable that the visualization highlights?**"
   ]
  },
  {
   "cell_type": "markdown",
   "id": "de3ab90c",
   "metadata": {},
   "source": [
    "Over one-third of survey participants identified as Democratic, just over half as Republican or Independent, and over 10% as something else/refused. "
   ]
  },
  {
   "cell_type": "markdown",
   "id": "879dc1c2",
   "metadata": {},
   "source": [
    "### **10.\t(2 points) Create one bivariate relationship that shows the relationship between the two variables used above (e.g. scatter plot, side-by-side bar plot, line graph).**"
   ]
  },
  {
   "cell_type": "code",
   "execution_count": 125,
   "id": "6631e165",
   "metadata": {},
   "outputs": [
    {
     "data": {
      "image/png": "[encoded data removed]",
      "text/plain": [
       "<Figure size 1008x720 with 1 Axes>"
      ]
     },
     "metadata": {
      "needs_background": "light"
     },
     "output_type": "display_data"
    }
   ],
   "source": [
    "pew[[\"party\"]].value_counts()\n",
    "\n",
    "definitely = pew.loc[pew[\"partic\"] == 1]\n",
    "definitely[[\"party\"]].value_counts()\n",
    "670 / 970\n",
    "847 / 1267\n",
    "576 / 895\n",
    "\n",
    "probably = pew.loc[pew[\"partic\"] == 2]\n",
    "probably[[\"party\"]].value_counts()\n",
    "200 / 970\n",
    "254 / 1267\n",
    "179 / 895\n",
    "\n",
    "might = pew.loc[pew[\"partic\"] == 3]\n",
    "might[[\"party\"]].value_counts()\n",
    "75 / 970\n",
    "114 / 1267\n",
    "91 / 895\n",
    "\n",
    "prob_not = pew.loc[pew[\"partic\"] == 4]\n",
    "prob_not[[\"party\"]].value_counts()\n",
    "15 / 970\n",
    "39 / 1267\n",
    "23 / 895\n",
    "\n",
    "def_not = pew.loc[pew[\"partic\"] == 5]\n",
    "def_not[[\"party\"]].value_counts()\n",
    "9 / 970\n",
    "11 / 1267\n",
    "25 / 895\n",
    "\n",
    "barWidth = 0.25\n",
    "\n",
    "rep = [69.01, 20.62, 7.73, 1.54, 0.93]\n",
    "dem = [66.85, 20.05, 8.99, 3.01, 0.89]\n",
    "ind = [64.36, 20.00, 10.17, 2.57, 2.79]\n",
    "\n",
    "\n",
    "r1 = np.arange(len(rep))\n",
    "r2 = [x + barWidth for x in r1]\n",
    "r3 = [x + barWidth for x in r2]\n",
    "\n",
    "\n",
    "plt.figure(figsize = (14,10))\n",
    "plt.bar(r1, rep, color = \"palevioletred\", width = barWidth, label = \"Republican\")\n",
    "plt.bar(r2, dem, color = \"cornflowerblue\", width = barWidth, label = \"Democratic\")\n",
    "plt.bar(r3, ind, color = \"mediumseagreen\", width = barWidth, label = \"Independent\")\n",
    "plt.ylim([0,75])\n",
    "\n",
    "plt.ylabel(\"Percentage of Respondents\")\n",
    "plt.title('Willingness to Participate in US Census by Party Affiliation', fontsize = 22)\n",
    "plt.xticks(ticks = [r + barWidth for r in range(len(rep))], labels = [\"Definitely will participate\",\n",
    "          \"Probably will participate\",\n",
    "          \"Might or might not participate\",\n",
    "          \"Probably will not participate\",\n",
    "          \"Definitely will not participate\"], rotation = 45, fontsize = 12, ha = \"right\")\n",
    "plt.text(-0.1, 69.51, \"69.01\", color = \"black\", fontsize = 10)\n",
    "plt.text(0.15, 67.35, \"66.85\", color = \"black\", fontsize = 10)\n",
    "plt.text(0.40, 64.85, \"64.36\", color = \"black\", fontsize = 10)\n",
    "plt.text(0.9, 21.12, \"20.62\", color = \"black\", fontsize = 10)\n",
    "plt.text(1.15, 20.55, \"20.05\", color = \"black\", fontsize = 10)\n",
    "plt.text(1.40, 20.50, \"20.00\", color = \"black\", fontsize = 10)\n",
    "plt.text(1.90, 8.23, \"7.73\", color = \"black\", fontsize = 10)\n",
    "plt.text(2.15, 9.49, \"8.99\", color = \"black\", fontsize = 10)\n",
    "plt.text(2.40, 10.67, \"10.17\", color = \"black\", fontsize = 10)\n",
    "plt.text(2.90, 2.04, \"1.54\", color = \"black\", fontsize = 10)\n",
    "plt.text(3.15, 3.51, \"3.01\", color = \"black\", fontsize = 10)\n",
    "plt.text(3.40, 3.07, \"2.57\", color = \"black\", fontsize = 10)\n",
    "plt.text(3.90, 1.43, \"0.93\", color = \"black\", fontsize = 10)\n",
    "plt.text(4.15, 1.39, \"0.89\", color = \"black\", fontsize = 10)\n",
    "plt.text(4.40, 3.29, \"2.79\", color = \"black\", fontsize = 10)\n",
    "plt.text(2, 26, 'Independent respondents 3x more likely to \\nrespond \"Definitely Will Not Participate\" than \\ntheir Republican and Democratic counterparts.', fontsize = 14)\n",
    "plt.arrow(3.5, 25, 0.95, -19, shape = \"right\")\n",
    "\n",
    "plt.legend()\n",
    "plt.show()\n"
   ]
  },
  {
   "cell_type": "markdown",
   "id": "6995e03a",
   "metadata": {},
   "source": [
    "### **11.\t(1 points) Write a one-sentence summary of the visualization above.  What is something interesting about the relationship that the visualization highlights?**"
   ]
  },
  {
   "cell_type": "markdown",
   "id": "689ec683",
   "metadata": {},
   "source": [
    "Independents are the most skeptical about participating in the US Census and lead the \"might or might not\" and \"definitely will not\" categories -- however, overall, party affiliation still appears to have only marginal impact on respondents' likelihood to participate in the US Census. "
   ]
  },
  {
   "cell_type": "markdown",
   "id": "6be96365",
   "metadata": {},
   "source": [
    "## Part 3: Regression Analysis"
   ]
  },
  {
   "cell_type": "markdown",
   "id": "f5ca6fbe",
   "metadata": {},
   "source": [
    "### **12.  (5 points) Run a bivariate regression model that includes your dependent variable and one independent variable of interest.**"
   ]
  },
  {
   "cell_type": "code",
   "execution_count": 139,
   "id": "c1223f49",
   "metadata": {
    "scrolled": true
   },
   "outputs": [
    {
     "data": {
      "text/html": [
       "<table class=\"simpletable\">\n",
       "<caption>OLS Regression Results</caption>\n",
       "<tr>\n",
       "  <th>Dep. Variable:</th>         <td>partic</td>      <th>  R-squared:         </th> <td>   0.004</td>\n",
       "</tr>\n",
       "<tr>\n",
       "  <th>Model:</th>                   <td>OLS</td>       <th>  Adj. R-squared:    </th> <td>   0.004</td>\n",
       "</tr>\n",
       "<tr>\n",
       "  <th>Method:</th>             <td>Least Squares</td>  <th>  F-statistic:       </th> <td>   14.60</td>\n",
       "</tr>\n",
       "<tr>\n",
       "  <th>Date:</th>             <td>Thu, 09 Dec 2021</td> <th>  Prob (F-statistic):</th> <td>0.000135</td>\n",
       "</tr>\n",
       "<tr>\n",
       "  <th>Time:</th>                 <td>19:46:36</td>     <th>  Log-Likelihood:    </th> <td> -4922.6</td>\n",
       "</tr>\n",
       "<tr>\n",
       "  <th>No. Observations:</th>      <td>  3535</td>      <th>  AIC:               </th> <td>   9849.</td>\n",
       "</tr>\n",
       "<tr>\n",
       "  <th>Df Residuals:</th>          <td>  3533</td>      <th>  BIC:               </th> <td>   9862.</td>\n",
       "</tr>\n",
       "<tr>\n",
       "  <th>Df Model:</th>              <td>     1</td>      <th>                     </th>     <td> </td>   \n",
       "</tr>\n",
       "<tr>\n",
       "  <th>Covariance Type:</th>      <td>nonrobust</td>    <th>                     </th>     <td> </td>   \n",
       "</tr>\n",
       "</table>\n",
       "<table class=\"simpletable\">\n",
       "<tr>\n",
       "      <td></td>         <th>coef</th>     <th>std err</th>      <th>t</th>      <th>P>|t|</th>  <th>[0.025</th>    <th>0.975]</th>  \n",
       "</tr>\n",
       "<tr>\n",
       "  <th>Intercept</th> <td>    1.6459</td> <td>    0.020</td> <td>   80.460</td> <td> 0.000</td> <td>    1.606</td> <td>    1.686</td>\n",
       "</tr>\n",
       "<tr>\n",
       "  <th>dem</th>       <td>   -0.1306</td> <td>    0.034</td> <td>   -3.821</td> <td> 0.000</td> <td>   -0.198</td> <td>   -0.064</td>\n",
       "</tr>\n",
       "</table>\n",
       "<table class=\"simpletable\">\n",
       "<tr>\n",
       "  <th>Omnibus:</th>       <td>1303.055</td> <th>  Durbin-Watson:     </th> <td>   1.914</td>\n",
       "</tr>\n",
       "<tr>\n",
       "  <th>Prob(Omnibus):</th>  <td> 0.000</td>  <th>  Jarque-Bera (JB):  </th> <td>4202.371</td>\n",
       "</tr>\n",
       "<tr>\n",
       "  <th>Skew:</th>           <td> 1.906</td>  <th>  Prob(JB):          </th> <td>    0.00</td>\n",
       "</tr>\n",
       "<tr>\n",
       "  <th>Kurtosis:</th>       <td> 6.742</td>  <th>  Cond. No.          </th> <td>    2.42</td>\n",
       "</tr>\n",
       "</table><br/><br/>Notes:<br/>[1] Standard Errors assume that the covariance matrix of the errors is correctly specified."
      ],
      "text/plain": [
       "<class 'statsmodels.iolib.summary.Summary'>\n",
       "\"\"\"\n",
       "                            OLS Regression Results                            \n",
       "==============================================================================\n",
       "Dep. Variable:                 partic   R-squared:                       0.004\n",
       "Model:                            OLS   Adj. R-squared:                  0.004\n",
       "Method:                 Least Squares   F-statistic:                     14.60\n",
       "Date:                Thu, 09 Dec 2021   Prob (F-statistic):           0.000135\n",
       "Time:                        19:46:36   Log-Likelihood:                -4922.6\n",
       "No. Observations:                3535   AIC:                             9849.\n",
       "Df Residuals:                    3533   BIC:                             9862.\n",
       "Df Model:                           1                                         \n",
       "Covariance Type:            nonrobust                                         \n",
       "==============================================================================\n",
       "                 coef    std err          t      P>|t|      [0.025      0.975]\n",
       "------------------------------------------------------------------------------\n",
       "Intercept      1.6459      0.020     80.460      0.000       1.606       1.686\n",
       "dem           -0.1306      0.034     -3.821      0.000      -0.198      -0.064\n",
       "==============================================================================\n",
       "Omnibus:                     1303.055   Durbin-Watson:                   1.914\n",
       "Prob(Omnibus):                  0.000   Jarque-Bera (JB):             4202.371\n",
       "Skew:                           1.906   Prob(JB):                         0.00\n",
       "Kurtosis:                       6.742   Cond. No.                         2.42\n",
       "==============================================================================\n",
       "\n",
       "Notes:\n",
       "[1] Standard Errors assume that the covariance matrix of the errors is correctly specified.\n",
       "\"\"\""
      ]
     },
     "execution_count": 139,
     "metadata": {},
     "output_type": "execute_result"
    }
   ],
   "source": [
    "pew_dummy = pd.get_dummies(pew[\"party\"])\n",
    "pew_dummy = pd.concat([pew, pew_dummy], axis = 1)\n",
    "pew_dummy.drop([\"party\",1, 3, 4, 5], inplace = True, axis = 1)\n",
    "# Dem or Rep only, 0 = Rep, 1 = Dem\n",
    "pew_dummy = pew_dummy.rename(columns = {2: \"dem\"})\n",
    "\n",
    "reg = smf.ols(\"partic ~ dem\", data = pew_dummy)\n",
    "results = reg.fit()\n",
    "results.summary()"
   ]
  },
  {
   "cell_type": "markdown",
   "id": "6963fa39",
   "metadata": {},
   "source": [
    "### **Run a multivariate regression model that includes your dependent variable, one or more independent variables of interest and at least one control variable.**"
   ]
  },
  {
   "cell_type": "code",
   "execution_count": 140,
   "id": "9b2aac01",
   "metadata": {
    "scrolled": true
   },
   "outputs": [
    {
     "data": {
      "text/html": [
       "<table class=\"simpletable\">\n",
       "<caption>OLS Regression Results</caption>\n",
       "<tr>\n",
       "  <th>Dep. Variable:</th>         <td>partic</td>      <th>  R-squared:         </th> <td>   0.424</td>\n",
       "</tr>\n",
       "<tr>\n",
       "  <th>Model:</th>                   <td>OLS</td>       <th>  Adj. R-squared:    </th> <td>   0.423</td>\n",
       "</tr>\n",
       "<tr>\n",
       "  <th>Method:</th>             <td>Least Squares</td>  <th>  F-statistic:       </th> <td>   649.2</td>\n",
       "</tr>\n",
       "<tr>\n",
       "  <th>Date:</th>             <td>Thu, 09 Dec 2021</td> <th>  Prob (F-statistic):</th>  <td>  0.00</td> \n",
       "</tr>\n",
       "<tr>\n",
       "  <th>Time:</th>                 <td>19:46:39</td>     <th>  Log-Likelihood:    </th> <td> -3955.3</td>\n",
       "</tr>\n",
       "<tr>\n",
       "  <th>No. Observations:</th>      <td>  3535</td>      <th>  AIC:               </th> <td>   7921.</td>\n",
       "</tr>\n",
       "<tr>\n",
       "  <th>Df Residuals:</th>          <td>  3530</td>      <th>  BIC:               </th> <td>   7951.</td>\n",
       "</tr>\n",
       "<tr>\n",
       "  <th>Df Model:</th>              <td>     4</td>      <th>                     </th>     <td> </td>   \n",
       "</tr>\n",
       "<tr>\n",
       "  <th>Covariance Type:</th>      <td>nonrobust</td>    <th>                     </th>     <td> </td>   \n",
       "</tr>\n",
       "</table>\n",
       "<table class=\"simpletable\">\n",
       "<tr>\n",
       "       <td></td>          <th>coef</th>     <th>std err</th>      <th>t</th>      <th>P>|t|</th>  <th>[0.025</th>    <th>0.975]</th>  \n",
       "</tr>\n",
       "<tr>\n",
       "  <th>Intercept</th>   <td>    0.1873</td> <td>    0.042</td> <td>    4.410</td> <td> 0.000</td> <td>    0.104</td> <td>    0.271</td>\n",
       "</tr>\n",
       "<tr>\n",
       "  <th>dem</th>         <td>    0.0206</td> <td>    0.026</td> <td>    0.782</td> <td> 0.434</td> <td>   -0.031</td> <td>    0.072</td>\n",
       "</tr>\n",
       "<tr>\n",
       "  <th>import_us</th>   <td>    0.7678</td> <td>    0.021</td> <td>   36.420</td> <td> 0.000</td> <td>    0.727</td> <td>    0.809</td>\n",
       "</tr>\n",
       "<tr>\n",
       "  <th>import_you</th>  <td>    0.0202</td> <td>    0.015</td> <td>    1.322</td> <td> 0.186</td> <td>   -0.010</td> <td>    0.050</td>\n",
       "</tr>\n",
       "<tr>\n",
       "  <th>import_comm</th> <td>    0.1910</td> <td>    0.016</td> <td>   11.954</td> <td> 0.000</td> <td>    0.160</td> <td>    0.222</td>\n",
       "</tr>\n",
       "</table>\n",
       "<table class=\"simpletable\">\n",
       "<tr>\n",
       "  <th>Omnibus:</th>       <td>1114.941</td> <th>  Durbin-Watson:     </th> <td>   1.953</td>\n",
       "</tr>\n",
       "<tr>\n",
       "  <th>Prob(Omnibus):</th>  <td> 0.000</td>  <th>  Jarque-Bera (JB):  </th> <td>7141.596</td>\n",
       "</tr>\n",
       "<tr>\n",
       "  <th>Skew:</th>           <td> 1.344</td>  <th>  Prob(JB):          </th> <td>    0.00</td>\n",
       "</tr>\n",
       "<tr>\n",
       "  <th>Kurtosis:</th>       <td> 9.423</td>  <th>  Cond. No.          </th> <td>    13.1</td>\n",
       "</tr>\n",
       "</table><br/><br/>Notes:<br/>[1] Standard Errors assume that the covariance matrix of the errors is correctly specified."
      ],
      "text/plain": [
       "<class 'statsmodels.iolib.summary.Summary'>\n",
       "\"\"\"\n",
       "                            OLS Regression Results                            \n",
       "==============================================================================\n",
       "Dep. Variable:                 partic   R-squared:                       0.424\n",
       "Model:                            OLS   Adj. R-squared:                  0.423\n",
       "Method:                 Least Squares   F-statistic:                     649.2\n",
       "Date:                Thu, 09 Dec 2021   Prob (F-statistic):               0.00\n",
       "Time:                        19:46:39   Log-Likelihood:                -3955.3\n",
       "No. Observations:                3535   AIC:                             7921.\n",
       "Df Residuals:                    3530   BIC:                             7951.\n",
       "Df Model:                           4                                         \n",
       "Covariance Type:            nonrobust                                         \n",
       "===============================================================================\n",
       "                  coef    std err          t      P>|t|      [0.025      0.975]\n",
       "-------------------------------------------------------------------------------\n",
       "Intercept       0.1873      0.042      4.410      0.000       0.104       0.271\n",
       "dem             0.0206      0.026      0.782      0.434      -0.031       0.072\n",
       "import_us       0.7678      0.021     36.420      0.000       0.727       0.809\n",
       "import_you      0.0202      0.015      1.322      0.186      -0.010       0.050\n",
       "import_comm     0.1910      0.016     11.954      0.000       0.160       0.222\n",
       "==============================================================================\n",
       "Omnibus:                     1114.941   Durbin-Watson:                   1.953\n",
       "Prob(Omnibus):                  0.000   Jarque-Bera (JB):             7141.596\n",
       "Skew:                           1.344   Prob(JB):                         0.00\n",
       "Kurtosis:                       9.423   Cond. No.                         13.1\n",
       "==============================================================================\n",
       "\n",
       "Notes:\n",
       "[1] Standard Errors assume that the covariance matrix of the errors is correctly specified.\n",
       "\"\"\""
      ]
     },
     "execution_count": 140,
     "metadata": {},
     "output_type": "execute_result"
    }
   ],
   "source": [
    "reg2 = smf.ols(\"partic ~ dem + import_us + import_you + import_comm\", data = pew_dummy)\n",
    "results2 = reg2.fit()\n",
    "results2.summary()"
   ]
  },
  {
   "cell_type": "markdown",
   "id": "f19e35c9",
   "metadata": {},
   "source": [
    "### **Complete Table 3 with your regression results.  List the independent variables (using meaningful variable names) in the first column.  Include your bivariate model results in the second column and the multivariate model results in the third column.  For each variable, list the estimated coefficient and the estimated standard error beneath in parentheses.  Include only two digits beyond the decimal point.**"
   ]
  },
  {
   "cell_type": "markdown",
   "id": "74c68e95",
   "metadata": {},
   "source": [
    "| Independent Variable | Bivariate Model | Multivariate Model |\n",
    "| :--- | :--- | :--- |\n",
    "| dem | -0.13 | 0.02 |\n",
    "| | (0.03) | (0.03) |\n",
    "| import_us | | 0.77 |\n",
    "| | | (0.02) |\n",
    "| import_you | | 0.02 |\n",
    "| | | (0.02) |\n",
    "| import_comm | | 0.19 |\n",
    "| | |  (0.02) |"
   ]
  },
  {
   "cell_type": "markdown",
   "id": "97354791",
   "metadata": {},
   "source": [
    "### **13.\t(3 points) Explain your justification for one of the control variables that you chose to include in the multivariate model.**"
   ]
  },
  {
   "cell_type": "markdown",
   "id": "d7441ac1",
   "metadata": {},
   "source": [
    "One could hypothesize how important an individual deems the US Census to be for the United States, them personally, and/or their communities would influence their willingness to participate in said Census. For this reason, I included \"import_us\", \"import_you\", and \"import_comm\" as control variables. By controlling for how important an individual believes the Census is, the real impact (or lack thereof) of party affiliation becomes clearer. "
   ]
  },
  {
   "cell_type": "markdown",
   "id": "32011056",
   "metadata": {},
   "source": [
    "### **14.\t(2 points) Interpret the coefficient on the independent variable of interest in the bivariate model.**"
   ]
  },
  {
   "cell_type": "markdown",
   "id": "beacb78f",
   "metadata": {},
   "source": [
    "We can associate democratic party affiliation with a -0.13 change in willingness to participate in the US Census.*\n",
    "\n",
    "*For the purposes of this analysis, willingness to participate in US Census ranges from 1 (high) to 5 (low)."
   ]
  },
  {
   "cell_type": "markdown",
   "id": "f74cf796",
   "metadata": {},
   "source": [
    "### **15.\t(2 points) Interpret the coefficient on the independent variable of interest in the multivariate model.**"
   ]
  },
  {
   "cell_type": "markdown",
   "id": "de9cedc9",
   "metadata": {},
   "source": [
    "We can associate democratic party affiliation with a 0.02 change in willingness to participate in the US Census.*\n",
    "\n",
    "*For the purposes of this analysis, willingness to participate in US Census ranges from 1 (high) to 5 (low)."
   ]
  },
  {
   "cell_type": "markdown",
   "id": "0f54ce79",
   "metadata": {},
   "source": [
    "### **16.\t(2 points) Conduct a hypothesis test on the independent variable of interest in the multivariate model.  State the null hypothesis, alternative hypothesis, t-score and result of the test.**"
   ]
  },
  {
   "cell_type": "code",
   "execution_count": 141,
   "id": "00e6e8e0",
   "metadata": {},
   "outputs": [
    {
     "name": "stdout",
     "output_type": "stream",
     "text": [
      "                             Test for Constraints                             \n",
      "==============================================================================\n",
      "                 coef    std err          t      P>|t|      [0.025      0.975]\n",
      "------------------------------------------------------------------------------\n",
      "c0             0.0206      0.026      0.782      0.434      -0.031       0.072\n",
      "==============================================================================\n"
     ]
    }
   ],
   "source": [
    "hypotheses = \"dem\"\n",
    "t_test = results2.t_test(hypotheses)\n",
    "print(t_test)"
   ]
  },
  {
   "cell_type": "markdown",
   "id": "d82bf624",
   "metadata": {},
   "source": [
    "* H0: There is not a statistically significant relationship betwween an individual's party affiliation and their willingness to participate in the US Census. \n",
    "* HA: There is a statistically significant relationship betwween an individual's party affiliation and their willingness to participate in the US Census. \n",
    "* t-score: 0.782\n",
    "* Result of the test: Retain the null hypothesis. "
   ]
  },
  {
   "cell_type": "markdown",
   "id": "3d9d2669",
   "metadata": {},
   "source": [
    "### **17.\t(1 points) In a few sentences, describe your overall findings from your analysis.**"
   ]
  },
  {
   "cell_type": "markdown",
   "id": "9316d2f0",
   "metadata": {},
   "source": [
    "While over 15% of Pew Research Center's Survey respondents \"might not\", \"probably will not\", or \"definitely will not\" participate in the US Census, party affiliation does not have a statistically significant influence on this attitude. Further analysis is required to determine what other potential variables may have an impact. A few areas to explore include ethnicity, citizenship, education, age, what individual believe the US Census is used for, and self-perceived importance of the US Census. "
   ]
  },
  {
   "cell_type": "code",
   "execution_count": null,
   "id": "efb7e8b2",
   "metadata": {},
   "outputs": [],
   "source": []
  }
 ],
 "metadata": {
  "kernelspec": {
   "display_name": "Python 3",
   "language": "python",
   "name": "python3"
  },
  "language_info": {
   "codemirror_mode": {
    "name": "ipython",
    "version": 3
   },
   "file_extension": ".py",
   "mimetype": "text/x-python",
   "name": "python",
   "nbconvert_exporter": "python",
   "pygments_lexer": "ipython3",
   "version": "3.8.8"
  }
 },
 "nbformat": 4,
 "nbformat_minor": 5
}
